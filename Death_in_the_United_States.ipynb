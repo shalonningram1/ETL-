{
 "cells": [
  {
   "cell_type": "code",
   "execution_count": 1,
   "id": "a18e5988",
   "metadata": {},
   "outputs": [],
   "source": [
    "import glob\n",
    "import pandas as pd\n",
    "import numpy as np"
   ]
  },
  {
   "cell_type": "code",
   "execution_count": 9,
   "id": "2a1fc611",
   "metadata": {},
   "outputs": [
    {
     "data": {
      "text/plain": [
       "['death_data/2010_data.csv',\n",
       " 'death_data/2011_data.csv',\n",
       " 'death_data/2007_data.csv',\n",
       " 'death_data/2006_data.csv',\n",
       " 'death_data/2014_data.csv',\n",
       " 'death_data/2015_data.csv',\n",
       " 'death_data/2009_data.csv',\n",
       " 'death_data/2008_data.csv',\n",
       " 'death_data/2005_data.csv',\n",
       " 'death_data/2013_data.csv',\n",
       " 'death_data/2012_data.csv']"
      ]
     },
     "execution_count": 9,
     "metadata": {},
     "output_type": "execute_result"
    }
   ],
   "source": [
    "list_csv = glob.glob('death_data/*.csv')\n",
    "list_csv"
   ]
  },
  {
   "cell_type": "code",
   "execution_count": 10,
   "id": "f8412799",
   "metadata": {},
   "outputs": [
    {
     "data": {
      "text/plain": [
       "['death_data/2010_codes.json',\n",
       " 'death_data/2015_codes.json',\n",
       " 'death_data/2009_codes.json',\n",
       " 'death_data/2012_codes.json',\n",
       " 'death_data/2006_codes.json',\n",
       " 'death_data/2005_codes.json',\n",
       " 'death_data/2014_codes.json',\n",
       " 'death_data/2008_codes.json',\n",
       " 'death_data/2011_codes.json',\n",
       " 'death_data/2007_codes.json',\n",
       " 'death_data/2013_codes.json']"
      ]
     },
     "execution_count": 10,
     "metadata": {},
     "output_type": "execute_result"
    }
   ],
   "source": [
    "list_json = glob.glob('death_data/*.json')\n",
    "list_json"
   ]
  },
  {
   "cell_type": "code",
   "execution_count": null,
   "id": "69aec882",
   "metadata": {},
   "outputs": [],
   "source": [
    "def extract():\n",
    "    \n",
    "    # creates an empty df to hold extracted data\n",
    "    extracted_data = pd.Data"
   ]
  }
 ],
 "metadata": {
  "kernelspec": {
   "display_name": "Python 3 (ipykernel)",
   "language": "python",
   "name": "python3"
  },
  "language_info": {
   "codemirror_mode": {
    "name": "ipython",
    "version": 3
   },
   "file_extension": ".py",
   "mimetype": "text/x-python",
   "name": "python",
   "nbconvert_exporter": "python",
   "pygments_lexer": "ipython3",
   "version": "3.9.12"
  }
 },
 "nbformat": 4,
 "nbformat_minor": 5
}
