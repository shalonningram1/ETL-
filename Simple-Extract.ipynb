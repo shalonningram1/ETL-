{
 "cells": [
  {
   "cell_type": "code",
   "execution_count": 5,
   "id": "8e6cd1ac",
   "metadata": {},
   "outputs": [],
   "source": [
    "import glob\n",
    "import pandas as pd\n",
    "import numpy as np"
   ]
  },
  {
   "cell_type": "markdown",
   "id": "c51062a9",
   "metadata": {},
   "source": [
    "### Covid Data - Single CSV"
   ]
  },
  {
   "cell_type": "code",
   "execution_count": 4,
   "id": "79001922",
   "metadata": {},
   "outputs": [
    {
     "data": {
      "text/plain": [
       "['us_states.csv']"
      ]
     },
     "execution_count": 4,
     "metadata": {},
     "output_type": "execute_result"
    }
   ],
   "source": [
    "list_csv = glob.glob('*.csv')\n",
    "list_csv"
   ]
  },
  {
   "cell_type": "code",
   "execution_count": 15,
   "id": "1913a432",
   "metadata": {
    "scrolled": true
   },
   "outputs": [
    {
     "name": "stdout",
     "output_type": "stream",
     "text": [
      "            date          state  fips  cases  deaths\n",
      "0     2020-01-21     Washington    53      1       0\n",
      "1     2020-01-22     Washington    53      1       0\n",
      "2     2020-01-23     Washington    53      1       0\n",
      "3     2020-01-24       Illinois    17      1       0\n",
      "4     2020-01-24     Washington    53      1       0\n",
      "...          ...            ...   ...    ...     ...\n",
      "3749  2020-05-09       Virginia    51  23196     827\n",
      "3750  2020-05-09     Washington    53  17763     925\n",
      "3751  2020-05-09  West Virginia    54   1347      53\n",
      "3752  2020-05-09      Wisconsin    55   9939     398\n",
      "3753  2020-05-09        Wyoming    56    653       7\n",
      "\n",
      "[3754 rows x 5 columns]\n"
     ]
    }
   ],
   "source": [
    "def extract_from_csv(file):\n",
    "    df_csv = pd.read_csv(file)\n",
    "    return df_csv\n",
    "\n",
    "df_csv = extract_from_csv('us_states.csv')\n",
    "print(df_csv)"
   ]
  },
  {
   "cell_type": "code",
   "execution_count": 11,
   "id": "9d926c11",
   "metadata": {},
   "outputs": [
    {
     "name": "stdout",
     "output_type": "stream",
     "text": [
      "            date          state  fips  cases  deaths\n",
      "0     2020-01-21     Washington    53      1       0\n",
      "1     2020-01-22     Washington    53      1       0\n",
      "2     2020-01-23     Washington    53      1       0\n",
      "3     2020-01-24       Illinois    17      1       0\n",
      "4     2020-01-24     Washington    53      1       0\n",
      "...          ...            ...   ...    ...     ...\n",
      "3749  2020-05-09       Virginia    51  23196     827\n",
      "3750  2020-05-09     Washington    53  17763     925\n",
      "3751  2020-05-09  West Virginia    54   1347      53\n",
      "3752  2020-05-09      Wisconsin    55   9939     398\n",
      "3753  2020-05-09        Wyoming    56    653       7\n",
      "\n",
      "[3754 rows x 5 columns]\n"
     ]
    }
   ],
   "source": [
    "df_csv = extract_from_csv('us_states.csv')\n",
    "print(df_csv)"
   ]
  },
  {
   "cell_type": "markdown",
   "id": "97e62ddf",
   "metadata": {},
   "source": [
    "### Covid Data - Single JSON"
   ]
  },
  {
   "cell_type": "code",
   "execution_count": 14,
   "id": "09e6e4ca",
   "metadata": {},
   "outputs": [
    {
     "data": {
      "text/plain": [
       "['covid_jhu.json']"
      ]
     },
     "execution_count": 14,
     "metadata": {},
     "output_type": "execute_result"
    }
   ],
   "source": [
    "list_json = glob.glob('*.json')\n",
    "list_json"
   ]
  },
  {
   "cell_type": "code",
   "execution_count": 16,
   "id": "b1b1f5ed",
   "metadata": {},
   "outputs": [
    {
     "name": "stdout",
     "output_type": "stream",
     "text": [
      "       fips admin2 province_state      country_region          last_update  \\\n",
      "0                           Anhui               China  2020-01-22T17:00:00   \n",
      "1                         Beijing               China  2020-01-22T17:00:00   \n",
      "2                       Chongqing               China  2020-01-22T17:00:00   \n",
      "3                          Fujian               China  2020-01-22T17:00:00   \n",
      "4                           Gansu               China  2020-01-22T17:00:00   \n",
      "...     ...    ...            ...                 ...                  ...   \n",
      "222799                             West Bank and Gaza  2020-05-30T02:32:48   \n",
      "222800                                 Western Sahara  2020-05-30T02:32:48   \n",
      "222801                                          Yemen  2020-05-30T02:32:48   \n",
      "222802                                         Zambia  2020-05-30T02:32:48   \n",
      "222803                                       Zimbabwe  2020-05-30T02:32:48   \n",
      "\n",
      "        latitude  longitude  confirmed        combined_key  deaths  recovered  \\\n",
      "0         31.826    117.226        1.0        Anhui, China     NaN        NaN   \n",
      "1         40.182    116.414       14.0      Beijing, China     NaN        NaN   \n",
      "2         30.057    107.874        6.0    Chongqing, China     NaN        NaN   \n",
      "3         26.079    117.987        1.0       Fujian, China     NaN        NaN   \n",
      "4         36.061    103.834        NaN        Gansu, China     NaN        NaN   \n",
      "...          ...        ...        ...                 ...     ...        ...   \n",
      "222799    31.952     35.233      446.0  West Bank and Gaza     3.0      368.0   \n",
      "222800    24.215    -12.886        9.0      Western Sahara     1.0        6.0   \n",
      "222801    15.553     48.516      283.0               Yemen    65.0       11.0   \n",
      "222802   -15.417     28.283     1057.0              Zambia     7.0      779.0   \n",
      "222803   -20.000     30.000      149.0            Zimbabwe     4.0       28.0   \n",
      "\n",
      "        active  \n",
      "0          NaN  \n",
      "1          NaN  \n",
      "2          NaN  \n",
      "3          NaN  \n",
      "4          NaN  \n",
      "...        ...  \n",
      "222799    75.0  \n",
      "222800     2.0  \n",
      "222801   207.0  \n",
      "222802   271.0  \n",
      "222803   117.0  \n",
      "\n",
      "[222804 rows x 12 columns]\n"
     ]
    }
   ],
   "source": [
    "def extract_from_json(json_file):\n",
    "    df_json = pd.read_json(json_file, lines=True)\n",
    "    return df_json\n",
    "\n",
    "df_json = extract_from_json('covid_jhu.json')\n",
    "print(df_json)"
   ]
  }
 ],
 "metadata": {
  "kernelspec": {
   "display_name": "Python 3 (ipykernel)",
   "language": "python",
   "name": "python3"
  },
  "language_info": {
   "codemirror_mode": {
    "name": "ipython",
    "version": 3
   },
   "file_extension": ".py",
   "mimetype": "text/x-python",
   "name": "python",
   "nbconvert_exporter": "python",
   "pygments_lexer": "ipython3",
   "version": "3.9.12"
  }
 },
 "nbformat": 4,
 "nbformat_minor": 5
}
