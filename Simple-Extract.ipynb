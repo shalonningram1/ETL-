{
 "cells": [
  {
   "cell_type": "code",
   "execution_count": 5,
   "id": "54be8b81",
   "metadata": {},
   "outputs": [],
   "source": [
    "import glob\n",
    "import pandas as pd\n",
    "import numpy as np"
   ]
  },
  {
   "cell_type": "markdown",
   "id": "1c9ab296",
   "metadata": {},
   "source": [
    "# Extract"
   ]
  },
  {
   "cell_type": "markdown",
   "id": "f29345ab",
   "metadata": {},
   "source": [
    "### Covid Data - Single CSV"
   ]
  },
  {
   "cell_type": "code",
   "execution_count": 4,
   "id": "06e96079",
   "metadata": {},
   "outputs": [
    {
     "data": {
      "text/plain": [
       "['us_states.csv']"
      ]
     },
     "execution_count": 4,
     "metadata": {},
     "output_type": "execute_result"
    }
   ],
   "source": [
    "list_csv = glob.glob('*.csv')\n",
    "list_csv"
   ]
  },
  {
   "cell_type": "code",
   "execution_count": 15,
   "id": "53a1c43c",
   "metadata": {},
   "outputs": [
    {
     "name": "stdout",
     "output_type": "stream",
     "text": [
      "            date          state  fips  cases  deaths\n",
      "0     2020-01-21     Washington    53      1       0\n",
      "1     2020-01-22     Washington    53      1       0\n",
      "2     2020-01-23     Washington    53      1       0\n",
      "3     2020-01-24       Illinois    17      1       0\n",
      "4     2020-01-24     Washington    53      1       0\n",
      "...          ...            ...   ...    ...     ...\n",
      "3749  2020-05-09       Virginia    51  23196     827\n",
      "3750  2020-05-09     Washington    53  17763     925\n",
      "3751  2020-05-09  West Virginia    54   1347      53\n",
      "3752  2020-05-09      Wisconsin    55   9939     398\n",
      "3753  2020-05-09        Wyoming    56    653       7\n",
      "\n",
      "[3754 rows x 5 columns]\n"
     ]
    }
   ],
   "source": [
    "def extract_from_csv(file):\n",
    "    df_csv = pd.read_csv(file)\n",
    "    return df_csv\n",
    "\n",
    "df_csv = extract_from_csv('us_states.csv')\n",
    "print(df_csv)"
   ]
  },
  {
   "cell_type": "code",
   "execution_count": 11,
   "id": "a4128447",
   "metadata": {},
   "outputs": [
    {
     "name": "stdout",
     "output_type": "stream",
     "text": [
      "            date          state  fips  cases  deaths\n",
      "0     2020-01-21     Washington    53      1       0\n",
      "1     2020-01-22     Washington    53      1       0\n",
      "2     2020-01-23     Washington    53      1       0\n",
      "3     2020-01-24       Illinois    17      1       0\n",
      "4     2020-01-24     Washington    53      1       0\n",
      "...          ...            ...   ...    ...     ...\n",
      "3749  2020-05-09       Virginia    51  23196     827\n",
      "3750  2020-05-09     Washington    53  17763     925\n",
      "3751  2020-05-09  West Virginia    54   1347      53\n",
      "3752  2020-05-09      Wisconsin    55   9939     398\n",
      "3753  2020-05-09        Wyoming    56    653       7\n",
      "\n",
      "[3754 rows x 5 columns]\n"
     ]
    }
   ],
   "source": [
    "df_csv = extract_from_csv('us_states.csv')\n",
    "print(df_csv)"
   ]
  },
  {
   "cell_type": "markdown",
   "id": "17f947ad",
   "metadata": {},
   "source": [
    "### Covid Data - Single JSON"
   ]
  },
  {
   "cell_type": "code",
   "execution_count": 14,
   "id": "dd5de452",
   "metadata": {},
   "outputs": [
    {
     "data": {
      "text/plain": [
       "['covid_jhu.json']"
      ]
     },
     "execution_count": 14,
     "metadata": {},
     "output_type": "execute_result"
    }
   ],
   "source": [
    "list_json = glob.glob('*.json')\n",
    "list_json"
   ]
  },
  {
   "cell_type": "code",
   "execution_count": 16,
   "id": "d0651a55",
   "metadata": {},
   "outputs": [
    {
     "name": "stdout",
     "output_type": "stream",
     "text": [
      "       fips admin2 province_state      country_region          last_update  \\\n",
      "0                           Anhui               China  2020-01-22T17:00:00   \n",
      "1                         Beijing               China  2020-01-22T17:00:00   \n",
      "2                       Chongqing               China  2020-01-22T17:00:00   \n",
      "3                          Fujian               China  2020-01-22T17:00:00   \n",
      "4                           Gansu               China  2020-01-22T17:00:00   \n",
      "...     ...    ...            ...                 ...                  ...   \n",
      "222799                             West Bank and Gaza  2020-05-30T02:32:48   \n",
      "222800                                 Western Sahara  2020-05-30T02:32:48   \n",
      "222801                                          Yemen  2020-05-30T02:32:48   \n",
      "222802                                         Zambia  2020-05-30T02:32:48   \n",
      "222803                                       Zimbabwe  2020-05-30T02:32:48   \n",
      "\n",
      "        latitude  longitude  confirmed        combined_key  deaths  recovered  \\\n",
      "0         31.826    117.226        1.0        Anhui, China     NaN        NaN   \n",
      "1         40.182    116.414       14.0      Beijing, China     NaN        NaN   \n",
      "2         30.057    107.874        6.0    Chongqing, China     NaN        NaN   \n",
      "3         26.079    117.987        1.0       Fujian, China     NaN        NaN   \n",
      "4         36.061    103.834        NaN        Gansu, China     NaN        NaN   \n",
      "...          ...        ...        ...                 ...     ...        ...   \n",
      "222799    31.952     35.233      446.0  West Bank and Gaza     3.0      368.0   \n",
      "222800    24.215    -12.886        9.0      Western Sahara     1.0        6.0   \n",
      "222801    15.553     48.516      283.0               Yemen    65.0       11.0   \n",
      "222802   -15.417     28.283     1057.0              Zambia     7.0      779.0   \n",
      "222803   -20.000     30.000      149.0            Zimbabwe     4.0       28.0   \n",
      "\n",
      "        active  \n",
      "0          NaN  \n",
      "1          NaN  \n",
      "2          NaN  \n",
      "3          NaN  \n",
      "4          NaN  \n",
      "...        ...  \n",
      "222799    75.0  \n",
      "222800     2.0  \n",
      "222801   207.0  \n",
      "222802   271.0  \n",
      "222803   117.0  \n",
      "\n",
      "[222804 rows x 12 columns]\n"
     ]
    }
   ],
   "source": [
    "def extract_from_json(json_file):\n",
    "    df_json = pd.read_json(json_file, lines=True)\n",
    "    return df_json\n",
    "\n",
    "df_json = extract_from_json('covid_jhu.json')\n",
    "print(df_json)"
   ]
  },
  {
   "cell_type": "markdown",
   "id": "f993403b",
   "metadata": {},
   "source": [
    "### Multi CSV Files"
   ]
  },
  {
   "cell_type": "code",
   "execution_count": 17,
   "id": "c9c1b3ea",
   "metadata": {},
   "outputs": [
    {
     "data": {
      "text/plain": [
       "['Country',\n",
       " 'Alcoholic Beverages',\n",
       " 'Animal Products',\n",
       " 'Animal fats',\n",
       " 'Aquatic Products, Other',\n",
       " 'Cereals - Excluding Beer',\n",
       " 'Eggs',\n",
       " 'Fish, Seafood',\n",
       " 'Fruits - Excluding Wine',\n",
       " 'Meat',\n",
       " 'Miscellaneous',\n",
       " 'Milk - Excluding Butter',\n",
       " 'Offals',\n",
       " 'Oilcrops',\n",
       " 'Pulses',\n",
       " 'Spices',\n",
       " 'Starchy Roots',\n",
       " 'Stimulants',\n",
       " 'Sugar Crops',\n",
       " 'Sugar & Sweeteners',\n",
       " 'Treenuts',\n",
       " 'Vegetal Products',\n",
       " 'Vegetable Oils',\n",
       " 'Vegetables',\n",
       " 'Obesity',\n",
       " 'Undernourished',\n",
       " 'Confirmed',\n",
       " 'Deaths',\n",
       " 'Recovered',\n",
       " 'Active',\n",
       " 'Population',\n",
       " 'Unit (all except Population)']"
      ]
     },
     "execution_count": 17,
     "metadata": {},
     "output_type": "execute_result"
    }
   ],
   "source": [
    "col_names = pd.read_csv('health_data/Fat_Supply_Quantity_Data.csv')\n",
    "list(col_names.columns)"
   ]
  },
  {
   "cell_type": "code",
   "execution_count": null,
   "id": "9a66a3d7",
   "metadata": {},
   "outputs": [],
   "source": [
    "def extract():\n",
    "    # creates an empty df to hold all extracted data\n",
    "    extracted_data = pd.DataFrame(columns=['Country',\n",
    "     'Alcoholic Beverages',\n",
    "     'Animal Products',\n",
    "     'Animal fats',\n",
    "     'Aquatic Products, Other',\n",
    "     'Cereals - Excluding Beer',\n",
    "     'Eggs',\n",
    "     'Fish, Seafood',\n",
    "     'Fruits - Excluding Wine',\n",
    "     'Meat',\n",
    "     'Miscellaneous',\n",
    "     'Milk - Excluding Butter',\n",
    "     'Offals',\n",
    "     'Oilcrops',\n",
    "     'Pulses',\n",
    "     'Spices',\n",
    "     'Starchy Roots',\n",
    "     'Stimulants',\n",
    "     'Sugar Crops',\n",
    "     'Sugar & Sweeteners',\n",
    "     'Treenuts',\n",
    "     'Vegetal Products',\n",
    "     'Vegetable Oils',\n",
    "     'Vegetables',\n",
    "     'Obesity',\n",
    "     'Undernourished',\n",
    "     'Confirmed',\n",
    "     'Deaths',\n",
    "     'Recovered',\n",
    "     'Active',\n",
    "     'Population',\n",
    "     'Unit (all except Population)'])\n",
    "    \n",
    "    # processes all csv files in the health_data folder\n",
    "    for csvfiles in glob.glob('health_data/*.csv'):\n",
    "        extracted_data_csv = extracted_data.append(extract_csv(csvfiles), ignore_index=True)\n",
    "        \n",
    "    # process all json files \n",
    "    "
   ]
  }
 ],
 "metadata": {
  "kernelspec": {
   "display_name": "Python 3 (ipykernel)",
   "language": "python",
   "name": "python3"
  },
  "language_info": {
   "codemirror_mode": {
    "name": "ipython",
    "version": 3
   },
   "file_extension": ".py",
   "mimetype": "text/x-python",
   "name": "python",
   "nbconvert_exporter": "python",
   "pygments_lexer": "ipython3",
   "version": "3.9.12"
  }
 },
 "nbformat": 4,
 "nbformat_minor": 5
}
