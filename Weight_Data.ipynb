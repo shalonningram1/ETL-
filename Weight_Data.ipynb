{
 "cells": [
  {
   "cell_type": "markdown",
   "id": "94ed8ef4",
   "metadata": {},
   "source": [
    "# Weight Data Analysis\n",
    "\n",
    "> During this ETL project, I used Pandas & the glob module to extract csv & json files from a folder. I then performed transformations such as converting the height column from inches to feet as well as used the round function to allow one decimal for all numeric columns. In the final step, I loaded the dataframe into one csv to furhter analysis. "
   ]
  },
  {
   "cell_type": "code",
   "execution_count": 23,
   "id": "a18e5988",
   "metadata": {},
   "outputs": [],
   "source": [
    "import glob\n",
    "import pandas as pd\n",
    "import numpy as np\n",
    "import os\n",
    "from pandas import Series, DataFrame"
   ]
  },
  {
   "cell_type": "markdown",
   "id": "1b5f863c",
   "metadata": {},
   "source": [
    "### Extract\n",
    "\n",
    "> Data Exploration: To better understand my data I use the glob module to identify the number of csv & json files in the data folder"
   ]
  },
  {
   "cell_type": "code",
   "execution_count": 24,
   "id": "2a1fc611",
   "metadata": {},
   "outputs": [
    {
     "data": {
      "text/plain": [
       "['weight_data/myFile4.csv',\n",
       " 'weight_data/myFile3.csv',\n",
       " 'weight_data/myFile2.csv',\n",
       " 'weight_data/myFile0.csv',\n",
       " 'weight_data/myFile1.csv']"
      ]
     },
     "execution_count": 24,
     "metadata": {},
     "output_type": "execute_result"
    }
   ],
   "source": [
    "list_csv = glob.glob('weight_data/*.csv')\n",
    "list_csv"
   ]
  },
  {
   "cell_type": "code",
   "execution_count": 26,
   "id": "f8412799",
   "metadata": {},
   "outputs": [
    {
     "data": {
      "text/plain": [
       "['weight_data/myFile4.json',\n",
       " 'weight_data/myFile2.json',\n",
       " 'weight_data/myFile3.json',\n",
       " 'weight_data/myFile0.json',\n",
       " 'weight_data/myFile1.json']"
      ]
     },
     "execution_count": 26,
     "metadata": {},
     "output_type": "execute_result"
    }
   ],
   "source": [
    "list_json = glob.glob('weight_data/*.json')\n",
    "list_json"
   ]
  },
  {
   "cell_type": "markdown",
   "id": "a2fcb0ba",
   "metadata": {},
   "source": [
    "> Once I've identified the number of files, I then appened all files & merged them into one DataFrame"
   ]
  },
  {
   "cell_type": "code",
   "execution_count": 27,
   "id": "f1f0eb5b",
   "metadata": {},
   "outputs": [
    {
     "name": "stdout",
     "output_type": "stream",
     "text": [
      "Loading weight_data/myFile4.csv\n",
      "Loading weight_data/myFile3.csv\n",
      "Loading weight_data/myFile2.csv\n",
      "Loading weight_data/myFile0.csv\n",
      "Loading weight_data/myFile1.csv\n",
      "Loading weight_data/myFile4.json\n",
      "Loading weight_data/myFile2.json\n",
      "Loading weight_data/myFile3.json\n",
      "Loading weight_data/myFile0.json\n",
      "Loading weight_data/myFile1.json\n"
     ]
    }
   ],
   "source": [
    "all_dfs = []\n",
    "for csv_files in glob.glob('weight_data/*.csv'):\n",
    "    print(f'Loading {csv_files}')\n",
    "    csv_df = pd.read_csv(csv_files)  \n",
    "    all_dfs.append(csv_df)\n",
    "    \n",
    "for json_files in glob.glob('weight_data/*.json'):\n",
    "    print(f'Loading {json_files}')\n",
    "    json_df = pd.read_json(json_files)\n",
    "    all_dfs.append(json_df)"
   ]
  },
  {
   "cell_type": "markdown",
   "id": "e8aefa85",
   "metadata": {},
   "source": [
    "> Verify all files have been appended to the all_dfs"
   ]
  },
  {
   "cell_type": "code",
   "execution_count": 28,
   "id": "9f28573d",
   "metadata": {},
   "outputs": [
    {
     "data": {
      "text/plain": [
       "10"
      ]
     },
     "execution_count": 28,
     "metadata": {},
     "output_type": "execute_result"
    }
   ],
   "source": [
    "len(all_dfs)"
   ]
  },
  {
   "cell_type": "code",
   "execution_count": 29,
   "id": "99ead823",
   "metadata": {},
   "outputs": [],
   "source": [
    "df = pd.concat(all_dfs)"
   ]
  },
  {
   "cell_type": "code",
   "execution_count": 9,
   "id": "d9044dee",
   "metadata": {},
   "outputs": [
    {
     "data": {
      "text/plain": [
       "(10000, 4)"
      ]
     },
     "execution_count": 9,
     "metadata": {},
     "output_type": "execute_result"
    }
   ],
   "source": [
    "df.shape"
   ]
  },
  {
   "cell_type": "code",
   "execution_count": 30,
   "id": "e10f896e",
   "metadata": {},
   "outputs": [
    {
     "data": {
      "text/html": [
       "<div>\n",
       "<style scoped>\n",
       "    .dataframe tbody tr th:only-of-type {\n",
       "        vertical-align: middle;\n",
       "    }\n",
       "\n",
       "    .dataframe tbody tr th {\n",
       "        vertical-align: top;\n",
       "    }\n",
       "\n",
       "    .dataframe thead th {\n",
       "        text-align: right;\n",
       "    }\n",
       "</style>\n",
       "<table border=\"1\" class=\"dataframe\">\n",
       "  <thead>\n",
       "    <tr style=\"text-align: right;\">\n",
       "      <th></th>\n",
       "      <th>first_name</th>\n",
       "      <th>last_name</th>\n",
       "      <th>height</th>\n",
       "      <th>weight</th>\n",
       "    </tr>\n",
       "  </thead>\n",
       "  <tbody>\n",
       "    <tr>\n",
       "      <th>0</th>\n",
       "      <td>Nanete</td>\n",
       "      <td>Swigart</td>\n",
       "      <td>52</td>\n",
       "      <td>166.41</td>\n",
       "    </tr>\n",
       "    <tr>\n",
       "      <th>1</th>\n",
       "      <td>Ezmeralda</td>\n",
       "      <td>Maiah</td>\n",
       "      <td>28</td>\n",
       "      <td>66.20</td>\n",
       "    </tr>\n",
       "    <tr>\n",
       "      <th>2</th>\n",
       "      <td>Sindee</td>\n",
       "      <td>Maurine</td>\n",
       "      <td>51</td>\n",
       "      <td>113.51</td>\n",
       "    </tr>\n",
       "    <tr>\n",
       "      <th>3</th>\n",
       "      <td>Pierette</td>\n",
       "      <td>Germann</td>\n",
       "      <td>78</td>\n",
       "      <td>298.04</td>\n",
       "    </tr>\n",
       "    <tr>\n",
       "      <th>4</th>\n",
       "      <td>Ricky</td>\n",
       "      <td>Talia</td>\n",
       "      <td>34</td>\n",
       "      <td>19.52</td>\n",
       "    </tr>\n",
       "  </tbody>\n",
       "</table>\n",
       "</div>"
      ],
      "text/plain": [
       "  first_name last_name  height  weight\n",
       "0     Nanete   Swigart      52  166.41\n",
       "1  Ezmeralda     Maiah      28   66.20\n",
       "2     Sindee   Maurine      51  113.51\n",
       "3   Pierette   Germann      78  298.04\n",
       "4      Ricky     Talia      34   19.52"
      ]
     },
     "execution_count": 30,
     "metadata": {},
     "output_type": "execute_result"
    }
   ],
   "source": [
    "df.head()"
   ]
  },
  {
   "cell_type": "markdown",
   "id": "ed193d9d",
   "metadata": {},
   "source": [
    "### Transform\n",
    "\n",
    "> From viewing the head of the dataframe, Ive decided to convert the height column from inches to feet & round both the height/ weight columns to one decimal."
   ]
  },
  {
   "cell_type": "code",
   "execution_count": 31,
   "id": "0efa3245",
   "metadata": {},
   "outputs": [],
   "source": [
    "df['height'] = round(df.height / 12,1)"
   ]
  },
  {
   "cell_type": "code",
   "execution_count": 33,
   "id": "00a46cec",
   "metadata": {},
   "outputs": [],
   "source": [
    "df['weight'] = round(df.weight, 1)"
   ]
  },
  {
   "cell_type": "code",
   "execution_count": 34,
   "id": "2fb750ae",
   "metadata": {},
   "outputs": [
    {
     "data": {
      "text/html": [
       "<div>\n",
       "<style scoped>\n",
       "    .dataframe tbody tr th:only-of-type {\n",
       "        vertical-align: middle;\n",
       "    }\n",
       "\n",
       "    .dataframe tbody tr th {\n",
       "        vertical-align: top;\n",
       "    }\n",
       "\n",
       "    .dataframe thead th {\n",
       "        text-align: right;\n",
       "    }\n",
       "</style>\n",
       "<table border=\"1\" class=\"dataframe\">\n",
       "  <thead>\n",
       "    <tr style=\"text-align: right;\">\n",
       "      <th></th>\n",
       "      <th>first_name</th>\n",
       "      <th>last_name</th>\n",
       "      <th>height</th>\n",
       "      <th>weight</th>\n",
       "    </tr>\n",
       "  </thead>\n",
       "  <tbody>\n",
       "    <tr>\n",
       "      <th>0</th>\n",
       "      <td>Nanete</td>\n",
       "      <td>Swigart</td>\n",
       "      <td>4.3</td>\n",
       "      <td>166.4</td>\n",
       "    </tr>\n",
       "    <tr>\n",
       "      <th>1</th>\n",
       "      <td>Ezmeralda</td>\n",
       "      <td>Maiah</td>\n",
       "      <td>2.3</td>\n",
       "      <td>66.2</td>\n",
       "    </tr>\n",
       "    <tr>\n",
       "      <th>2</th>\n",
       "      <td>Sindee</td>\n",
       "      <td>Maurine</td>\n",
       "      <td>4.2</td>\n",
       "      <td>113.5</td>\n",
       "    </tr>\n",
       "    <tr>\n",
       "      <th>3</th>\n",
       "      <td>Pierette</td>\n",
       "      <td>Germann</td>\n",
       "      <td>6.5</td>\n",
       "      <td>298.0</td>\n",
       "    </tr>\n",
       "    <tr>\n",
       "      <th>4</th>\n",
       "      <td>Ricky</td>\n",
       "      <td>Talia</td>\n",
       "      <td>2.8</td>\n",
       "      <td>19.5</td>\n",
       "    </tr>\n",
       "  </tbody>\n",
       "</table>\n",
       "</div>"
      ],
      "text/plain": [
       "  first_name last_name  height  weight\n",
       "0     Nanete   Swigart     4.3   166.4\n",
       "1  Ezmeralda     Maiah     2.3    66.2\n",
       "2     Sindee   Maurine     4.2   113.5\n",
       "3   Pierette   Germann     6.5   298.0\n",
       "4      Ricky     Talia     2.8    19.5"
      ]
     },
     "execution_count": 34,
     "metadata": {},
     "output_type": "execute_result"
    }
   ],
   "source": [
    "df.head()"
   ]
  },
  {
   "cell_type": "markdown",
   "id": "62a726c7",
   "metadata": {},
   "source": [
    "### Load\n",
    "\n",
    "> Now that all files have been combined & transformed, I will load them all into one single csv for analysis"
   ]
  },
  {
   "cell_type": "code",
   "execution_count": 37,
   "id": "76c47233",
   "metadata": {},
   "outputs": [],
   "source": [
    "df.to_csv('weight_data.csv')"
   ]
  }
 ],
 "metadata": {
  "kernelspec": {
   "display_name": "Python 3 (ipykernel)",
   "language": "python",
   "name": "python3"
  },
  "language_info": {
   "codemirror_mode": {
    "name": "ipython",
    "version": 3
   },
   "file_extension": ".py",
   "mimetype": "text/x-python",
   "name": "python",
   "nbconvert_exporter": "python",
   "pygments_lexer": "ipython3",
   "version": "3.9.12"
  }
 },
 "nbformat": 4,
 "nbformat_minor": 5
}
