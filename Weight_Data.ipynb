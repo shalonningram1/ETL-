{
 "cells": [
  {
   "cell_type": "code",
   "execution_count": 13,
   "id": "a18e5988",
   "metadata": {},
   "outputs": [],
   "source": [
    "import glob\n",
    "import pandas as pd\n",
    "import numpy as np"
   ]
  },
  {
   "cell_type": "code",
   "execution_count": 14,
   "id": "2a1fc611",
   "metadata": {},
   "outputs": [
    {
     "data": {
      "text/plain": [
       "['weight_data/myFile4.csv',\n",
       " 'weight_data/myFile3.csv',\n",
       " 'weight_data/myFile2.csv',\n",
       " 'weight_data/myFile0.csv',\n",
       " 'weight_data/myFile1.csv']"
      ]
     },
     "execution_count": 14,
     "metadata": {},
     "output_type": "execute_result"
    }
   ],
   "source": [
    "list_csv = glob.glob('weight_data/*.csv')\n",
    "list_csv"
   ]
  },
  {
   "cell_type": "code",
   "execution_count": 15,
   "id": "f8412799",
   "metadata": {},
   "outputs": [
    {
     "data": {
      "text/plain": [
       "['weight_data/myFile4.json',\n",
       " 'weight_data/myFile2.json',\n",
       " 'weight_data/myFile3.json',\n",
       " 'weight_data/myFile0.json',\n",
       " 'weight_data/myFile1.json']"
      ]
     },
     "execution_count": 15,
     "metadata": {},
     "output_type": "execute_result"
    }
   ],
   "source": [
    "list_json = glob.glob('weight_data/*.json')\n",
    "list_json"
   ]
  },
  {
   "cell_type": "code",
   "execution_count": null,
   "id": "69aec882",
   "metadata": {},
   "outputs": [],
   "source": [
    "def extract():\n",
    "    \n",
    "    # creates an empty df to hold extracted data\n",
    "    extracted_data = pd.Data"
   ]
  }
 ],
 "metadata": {
  "kernelspec": {
   "display_name": "Python 3 (ipykernel)",
   "language": "python",
   "name": "python3"
  },
  "language_info": {
   "codemirror_mode": {
    "name": "ipython",
    "version": 3
   },
   "file_extension": ".py",
   "mimetype": "text/x-python",
   "name": "python",
   "nbconvert_exporter": "python",
   "pygments_lexer": "ipython3",
   "version": "3.9.12"
  }
 },
 "nbformat": 4,
 "nbformat_minor": 5
}
