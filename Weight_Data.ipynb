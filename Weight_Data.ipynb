{
 "cells": [
  {
   "cell_type": "code",
   "execution_count": 8,
   "id": "a18e5988",
   "metadata": {},
   "outputs": [],
   "source": [
    "import glob\n",
    "import pandas as pd\n",
    "import numpy as np\n",
    "import os\n",
    "from pandas import Series, DataFrame"
   ]
  },
  {
   "cell_type": "markdown",
   "id": "1b5f863c",
   "metadata": {},
   "source": [
    "# Extract"
   ]
  },
  {
   "cell_type": "markdown",
   "id": "f2c5eab9",
   "metadata": {},
   "source": [
    "### Explore Data"
   ]
  },
  {
   "cell_type": "markdown",
   "id": "dfa35325",
   "metadata": {},
   "source": [
    "To better understand my data I use the glob module to identify the number of csv & json files in the data folder"
   ]
  },
  {
   "cell_type": "code",
   "execution_count": 6,
   "id": "2a1fc611",
   "metadata": {},
   "outputs": [
    {
     "data": {
      "text/plain": [
       "['weight_data/myFile4.csv',\n",
       " 'weight_data/myFile3.csv',\n",
       " 'weight_data/myFile2.csv',\n",
       " 'weight_data/myFile0.csv',\n",
       " 'weight_data/myFile1.csv']"
      ]
     },
     "execution_count": 6,
     "metadata": {},
     "output_type": "execute_result"
    }
   ],
   "source": [
    "list_csv = glob.glob('weight_data/*.csv')\n",
    "list_csv"
   ]
  },
  {
   "cell_type": "code",
   "execution_count": 15,
   "id": "f8412799",
   "metadata": {},
   "outputs": [
    {
     "data": {
      "text/plain": [
       "['weight_data/myFile4.json',\n",
       " 'weight_data/myFile2.json',\n",
       " 'weight_data/myFile3.json',\n",
       " 'weight_data/myFile0.json',\n",
       " 'weight_data/myFile1.json']"
      ]
     },
     "execution_count": 15,
     "metadata": {},
     "output_type": "execute_result"
    }
   ],
   "source": [
    "list_json = glob.glob('weight_data/*.json')\n",
    "list_json"
   ]
  },
  {
   "cell_type": "markdown",
   "id": "a2fcb0ba",
   "metadata": {},
   "source": [
    "Once I've identified the number of files, I then appened all files & merged them into one DataFrame"
   ]
  },
  {
   "cell_type": "code",
   "execution_count": 39,
   "id": "f1f0eb5b",
   "metadata": {},
   "outputs": [
    {
     "name": "stdout",
     "output_type": "stream",
     "text": [
      "Loading weight_data/myFile4.csv\n",
      "Loading weight_data/myFile3.csv\n",
      "Loading weight_data/myFile2.csv\n",
      "Loading weight_data/myFile0.csv\n",
      "Loading weight_data/myFile1.csv\n",
      "Loading weight_data/myFile4.json\n",
      "Loading weight_data/myFile2.json\n",
      "Loading weight_data/myFile3.json\n",
      "Loading weight_data/myFile0.json\n",
      "Loading weight_data/myFile1.json\n"
     ]
    }
   ],
   "source": [
    "all_dfs = []\n",
    "for csv_files in glob.glob('weight_data/*.csv'):\n",
    "    print(f'Loading {csv_files}')\n",
    "    csv_df = pd.read_csv(csv_files)  \n",
    "    all_dfs.append(csv_df)\n",
    "    \n",
    "for json_files in glob.glob('weight_data/*.json'):\n",
    "    print(f'Loading {json_files}')\n",
    "    json_df = pd.read_json(json_files)\n",
    "    all_dfs.append(json_df)"
   ]
  },
  {
   "cell_type": "markdown",
   "id": "e8aefa85",
   "metadata": {},
   "source": [
    "Verify all files have been appended to the all_dfs"
   ]
  },
  {
   "cell_type": "code",
   "execution_count": 28,
   "id": "9f28573d",
   "metadata": {},
   "outputs": [
    {
     "data": {
      "text/plain": [
       "10"
      ]
     },
     "execution_count": 28,
     "metadata": {},
     "output_type": "execute_result"
    }
   ],
   "source": [
    "len(all_dfs)"
   ]
  },
  {
   "cell_type": "code",
   "execution_count": 34,
   "id": "99ead823",
   "metadata": {},
   "outputs": [],
   "source": [
    "df = pd.concat(all_dfs)"
   ]
  },
  {
   "cell_type": "code",
   "execution_count": 40,
   "id": "d9044dee",
   "metadata": {},
   "outputs": [
    {
     "data": {
      "text/plain": [
       "(10000, 4)"
      ]
     },
     "execution_count": 40,
     "metadata": {},
     "output_type": "execute_result"
    }
   ],
   "source": [
    "df.shape"
   ]
  },
  {
   "cell_type": "code",
   "execution_count": 43,
   "id": "e10f896e",
   "metadata": {},
   "outputs": [
    {
     "data": {
      "text/html": [
       "<div>\n",
       "<style scoped>\n",
       "    .dataframe tbody tr th:only-of-type {\n",
       "        vertical-align: middle;\n",
       "    }\n",
       "\n",
       "    .dataframe tbody tr th {\n",
       "        vertical-align: top;\n",
       "    }\n",
       "\n",
       "    .dataframe thead th {\n",
       "        text-align: right;\n",
       "    }\n",
       "</style>\n",
       "<table border=\"1\" class=\"dataframe\">\n",
       "  <thead>\n",
       "    <tr style=\"text-align: right;\">\n",
       "      <th></th>\n",
       "      <th>first_name</th>\n",
       "      <th>last_name</th>\n",
       "      <th>height</th>\n",
       "      <th>weight</th>\n",
       "    </tr>\n",
       "  </thead>\n",
       "  <tbody>\n",
       "    <tr>\n",
       "      <th>0</th>\n",
       "      <td>Sashenka</td>\n",
       "      <td>Tacye</td>\n",
       "      <td>12</td>\n",
       "      <td>103.75</td>\n",
       "    </tr>\n",
       "    <tr>\n",
       "      <th>1</th>\n",
       "      <td>Marinna</td>\n",
       "      <td>Eugenia</td>\n",
       "      <td>48</td>\n",
       "      <td>116.73</td>\n",
       "    </tr>\n",
       "    <tr>\n",
       "      <th>2</th>\n",
       "      <td>Miquela</td>\n",
       "      <td>Valoniah</td>\n",
       "      <td>46</td>\n",
       "      <td>64.15</td>\n",
       "    </tr>\n",
       "    <tr>\n",
       "      <th>3</th>\n",
       "      <td>Celisse</td>\n",
       "      <td>Curren</td>\n",
       "      <td>42</td>\n",
       "      <td>51.11</td>\n",
       "    </tr>\n",
       "    <tr>\n",
       "      <th>4</th>\n",
       "      <td>Bernardine</td>\n",
       "      <td>Sothena</td>\n",
       "      <td>13</td>\n",
       "      <td>50.71</td>\n",
       "    </tr>\n",
       "  </tbody>\n",
       "</table>\n",
       "</div>"
      ],
      "text/plain": [
       "   first_name last_name  height  weight\n",
       "0    Sashenka     Tacye      12  103.75\n",
       "1     Marinna   Eugenia      48  116.73\n",
       "2     Miquela  Valoniah      46   64.15\n",
       "3     Celisse    Curren      42   51.11\n",
       "4  Bernardine   Sothena      13   50.71"
      ]
     },
     "execution_count": 43,
     "metadata": {},
     "output_type": "execute_result"
    }
   ],
   "source": [
    "df.head()"
   ]
  },
  {
   "cell_type": "markdown",
   "id": "ed193d9d",
   "metadata": {},
   "source": [
    "# Transform"
   ]
  },
  {
   "cell_type": "code",
   "execution_count": null,
   "id": "4a7253f1",
   "metadata": {},
   "outputs": [],
   "source": []
  }
 ],
 "metadata": {
  "kernelspec": {
   "display_name": "Python 3 (ipykernel)",
   "language": "python",
   "name": "python3"
  },
  "language_info": {
   "codemirror_mode": {
    "name": "ipython",
    "version": 3
   },
   "file_extension": ".py",
   "mimetype": "text/x-python",
   "name": "python",
   "nbconvert_exporter": "python",
   "pygments_lexer": "ipython3",
   "version": "3.9.12"
  }
 },
 "nbformat": 4,
 "nbformat_minor": 5
}
